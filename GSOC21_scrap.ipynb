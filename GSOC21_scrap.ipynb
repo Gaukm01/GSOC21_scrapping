{
 "cells": [
  {
   "cell_type": "code",
   "execution_count": 8,
   "metadata": {},
   "outputs": [],
   "source": [
    "#import requests\n",
    "from selenium import webdriver\n",
    "from bs4 import BeautifulSoup\n",
    "import pandas as pd"
   ]
  },
  {
   "cell_type": "raw",
   "metadata": {},
   "source": [
    "First to scrap the data from GSoC21 results, use selenium library to download the html file. Then use BeautifulSoup library."
   ]
  },
  {
   "cell_type": "code",
   "execution_count": 5,
   "metadata": {},
   "outputs": [
    {
     "ename": "SyntaxError",
     "evalue": "(unicode error) 'unicodeescape' codec can't decode bytes in position 2-3: truncated \\UXXXXXXXX escape (<ipython-input-5-805e7a5dff1a>, line 1)",
     "output_type": "error",
     "traceback": [
      "\u001b[1;36m  File \u001b[1;32m\"<ipython-input-5-805e7a5dff1a>\"\u001b[1;36m, line \u001b[1;32m1\u001b[0m\n\u001b[1;33m    driver = webdriver.Chrome(\"C:\\Users\\gaura\\anaconda3\\Lib\\site-packages\")\u001b[0m\n\u001b[1;37m                             ^\u001b[0m\n\u001b[1;31mSyntaxError\u001b[0m\u001b[1;31m:\u001b[0m (unicode error) 'unicodeescape' codec can't decode bytes in position 2-3: truncated \\UXXXXXXXX escape\n"
     ]
    }
   ],
   "source": [
    "url=\"https://summerofcode.withgoogle.com/projects\"\n",
    "chromedriver_path= input(\"Enter chromdriver_install.exe path:\")\n",
    "driver = webdriver.Chrome(chromedriver_path)\n",
    "driver.get(url)\n",
    "content = driver.page_source\n",
    "soup = BeautifulSoup(content)\n",
    "#page = requests.get(\"https://summerofcode.withgoogle.com/projects\")\n",
    "#soup = BeautifulSoup(page.content, 'html.parser')\n",
    "soup"
   ]
  },
  {
   "cell_type": "code",
   "execution_count": 6,
   "metadata": {},
   "outputs": [],
   "source": [
    "#to store all the details\n",
    "names=[]\n",
    "projects=[]\n",
    "organisations=[]"
   ]
  },
  {
   "cell_type": "markdown",
   "metadata": {},
   "source": [
    "After going through the html code of the page, got the relevant class id to look for, and first go thorugh all project_cards -> details in it, name, project, orgainsation. class id for project and organisation is same i.e. 'class':'md-soc-theme' ; so both stored in a list and then fetched. Next store them."
   ]
  },
  {
   "cell_type": "code",
   "execution_count": null,
   "metadata": {},
   "outputs": [],
   "source": [
    "for entry in soup.findAll('li', attrs={'class':'project-card'}):\n",
    "    \n",
    "    person=entry.find('div', attrs={'class':'div.pos-rel'}).get_text()\n",
    "    print(person)\n",
    "    #detail=entry.find('div', attrs={'class':None})\n",
    "    detail=entry.find('a', attrs={'class':'md-soc-theme'})\n",
    "    #organisation_detail=entry.find('div',attrs={'class':})\n",
    "    proj=detail[0]\n",
    "    org=detail[1]\n",
    "    names.append(person)\n",
    "    projects.append(proj)\n",
    "    organisations.append(org)"
   ]
  },
  {
   "cell_type": "markdown",
   "metadata": {},
   "source": [
    "Storing the data in the csv format"
   ]
  },
  {
   "cell_type": "code",
   "execution_count": null,
   "metadata": {},
   "outputs": [],
   "source": [
    "df = pd.DataFrame({'Name':names, 'Project':projects, 'Organisation':organisations})\n",
    "df.to_csv('gsoc21.csv',index= False)"
   ]
  }
 ],
 "metadata": {
  "kernelspec": {
   "display_name": "Python 3",
   "language": "python",
   "name": "python3"
  },
  "language_info": {
   "codemirror_mode": {
    "name": "ipython",
    "version": 3
   },
   "file_extension": ".py",
   "mimetype": "text/x-python",
   "name": "python",
   "nbconvert_exporter": "python",
   "pygments_lexer": "ipython3",
   "version": "3.7.6"
  }
 },
 "nbformat": 4,
 "nbformat_minor": 4
}
